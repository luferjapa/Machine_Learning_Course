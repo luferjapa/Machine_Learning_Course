{
 "cells": [
  {
   "cell_type": "code",
   "execution_count": 1,
   "metadata": {},
   "outputs": [
    {
     "name": "stdout",
     "output_type": "stream",
     "text": [
      "Train on 60000 samples\n",
      "Epoch 1/5\n",
      "60000/60000 [==============================] - 4s 70us/sample - loss: 3.2872 - accuracy: 0.6648\n",
      "Epoch 2/5\n",
      "60000/60000 [==============================] - 4s 63us/sample - loss: 0.7390 - accuracy: 0.7187\n",
      "Epoch 3/5\n",
      "60000/60000 [==============================] - 4s 62us/sample - loss: 0.6555 - accuracy: 0.7492\n",
      "Epoch 4/5\n",
      "60000/60000 [==============================] - 4s 61us/sample - loss: 0.6071 - accuracy: 0.7716\n",
      "Epoch 5/5\n",
      "60000/60000 [==============================] - 3s 58us/sample - loss: 0.5712 - accuracy: 0.7868\n"
     ]
    },
    {
     "data": {
      "text/plain": [
       "array([[0.00000000e+00, 9.58418471e-25, 0.00000000e+00, ...,\n",
       "        3.92774977e-02, 1.58281828e-14, 9.16992784e-01],\n",
       "       [1.92462746e-02, 2.21122514e-06, 8.11371744e-01, ...,\n",
       "        3.34270194e-25, 1.18928510e-04, 1.20530353e-21],\n",
       "       [5.66146741e-10, 9.99999881e-01, 9.14135000e-12, ...,\n",
       "        0.00000000e+00, 6.06000181e-11, 3.61791704e-33],\n",
       "       ...,\n",
       "       [3.46221583e-04, 2.30927340e-21, 3.38176877e-04, ...,\n",
       "        1.42296686e-15, 9.98188674e-01, 2.70030504e-16],\n",
       "       [5.36343663e-08, 9.99906182e-01, 8.18684320e-09, ...,\n",
       "        0.00000000e+00, 2.79714585e-09, 1.10598384e-32],\n",
       "       [1.25540056e-11, 9.50735739e-06, 7.39530919e-12, ...,\n",
       "        4.50092465e-01, 8.53141100e-05, 5.34295961e-02]], dtype=float32)"
      ]
     },
     "execution_count": 1,
     "metadata": {},
     "output_type": "execute_result"
    }
   ],
   "source": [
    "#Importando la biblioteca\n",
    "import tensorflow as tf\n",
    "#importando el modelo \n",
    "from tensorflow import keras\n",
    "\n",
    "# Cargar conjunto de datos de Tensor Flow\n",
    "fashion_mnist = keras.datasets.fashion_mnist\n",
    "(train_images, train_labels), (test_images, test_labels) = fashion_mnist.load_data()\n",
    "\n",
    "#Crear modelo secuencial\n",
    "model = keras.Sequential([keras.layers.Flatten(input_shape = (28,28)),\n",
    "                          keras.layers.Dense(128, activation = tf.nn.relu),\n",
    "                          keras.layers.Dense(10, activation = tf.nn.softmax)])\n",
    "\n",
    "#Compilación del modelo\n",
    "model.compile(optimizer = tf.optimizers.Adam(), loss ='sparse_categorical_crossentropy',\n",
    "             metrics = ['accuracy'])\n",
    "\n",
    "#Entrenamiento\n",
    "model.fit(train_images, train_labels, epochs = 5)\n",
    "\n",
    "#Evaluación del modelo\n",
    "model.predict(test_images)"
   ]
  },
  {
   "cell_type": "code",
   "execution_count": null,
   "metadata": {},
   "outputs": [],
   "source": []
  }
 ],
 "metadata": {
  "kernelspec": {
   "display_name": "Python 3",
   "language": "python",
   "name": "python3"
  },
  "language_info": {
   "codemirror_mode": {
    "name": "ipython",
    "version": 3
   },
   "file_extension": ".py",
   "mimetype": "text/x-python",
   "name": "python",
   "nbconvert_exporter": "python",
   "pygments_lexer": "ipython3",
   "version": "3.8.8"
  }
 },
 "nbformat": 4,
 "nbformat_minor": 4
}
